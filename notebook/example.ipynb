{
 "cells": [
  {
   "cell_type": "code",
   "execution_count": 1,
   "metadata": {},
   "outputs": [],
   "source": [
    "from collections import namedtuple"
   ]
  },
  {
   "cell_type": "markdown",
   "metadata": {},
   "source": [
    "COnfig neede to specify for data ingestion:\n",
    "\n",
    "1.Download url\n",
    "\n",
    "2.Download folder(compressed file)\n",
    "\n",
    "3.Extract folder(Extracted file)\n",
    "\n",
    "4.Train dataset folder\n",
    "\n",
    "5.Test dataset folder"
   ]
  },
  {
   "cell_type": "code",
   "execution_count": 4,
   "metadata": {},
   "outputs": [],
   "source": [
    "DataIngestionConfig =  namedtuple('DataIngestionConfig',\n",
    "['dataset_download_url','tgz_download_dir','raw_data_dir', 'ingested_train_dir', 'ingested_test_dir'])\n"
   ]
  },
  {
   "cell_type": "code",
   "execution_count": 6,
   "metadata": {},
   "outputs": [],
   "source": [
    "DataIngestionConfig = DataIngestionConfig(dataset_download_url='sdvaui',\n",
    "tgz_download_dir='kjgiyg',\n",
    "raw_data_dir='ugigc',\n",
    "ingested_train_dir='kkigi',\n",
    "ingested_test_dir='almbubi')"
   ]
  },
  {
   "cell_type": "code",
   "execution_count": 7,
   "metadata": {},
   "outputs": [
    {
     "data": {
      "text/plain": [
       "DataIngestionConfig(dataset_download_url='sdvaui', tgz_download_dir='kjgiyg', raw_data_dir='ugigc', ingested_train_dir='kkigi', ingested_test_dir='almbubi')"
      ]
     },
     "execution_count": 7,
     "metadata": {},
     "output_type": "execute_result"
    }
   ],
   "source": [
    "DataIngestionConfig"
   ]
  },
  {
   "cell_type": "markdown",
   "metadata": {},
   "source": [
    "DIctionary is mutable but named tuple is immutable.\n",
    "Configuration information cannot be altered"
   ]
  },
  {
   "cell_type": "markdown",
   "metadata": {},
   "source": []
  }
 ],
 "metadata": {
  "kernelspec": {
   "display_name": "Python 3.7.0",
   "language": "python",
   "name": "python3"
  },
  "language_info": {
   "codemirror_mode": {
    "name": "ipython",
    "version": 3
   },
   "file_extension": ".py",
   "mimetype": "text/x-python",
   "name": "python",
   "nbconvert_exporter": "python",
   "pygments_lexer": "ipython3",
   "version": "3.7.0"
  },
  "orig_nbformat": 4,
  "vscode": {
   "interpreter": {
    "hash": "5e187a6e8c252b3978caa5373d4bbca15913f09c7b1d42d748a454e877755b7f"
   }
  }
 },
 "nbformat": 4,
 "nbformat_minor": 2
}
